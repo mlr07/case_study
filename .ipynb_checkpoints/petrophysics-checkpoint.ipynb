{
 "cells": [
  {
   "cell_type": "markdown",
   "metadata": {},
   "source": [
    "## Quick look petrophysics, OGIP, and implied recovery"
   ]
  },
  {
   "cell_type": "markdown",
   "metadata": {},
   "source": [
    "### Import libraries"
   ]
  },
  {
   "cell_type": "code",
   "execution_count": null,
   "metadata": {},
   "outputs": [],
   "source": [
    "from bokeh.plotting import figure, show, output_file\n",
    "from bokeh.models import Label\n",
    "from bokeh.layouts import gridplot\n",
    "from bokeh.io import output_notebook\n",
    "\n",
    "import lasio\n",
    "import pandas as pd"
   ]
  },
  {
   "cell_type": "markdown",
   "metadata": {},
   "source": [
    "### Load and process Meeker 18 petrophyscial log"
   ]
  },
  {
   "cell_type": "code",
   "execution_count": null,
   "metadata": {},
   "outputs": [],
   "source": []
  },
  {
   "cell_type": "markdown",
   "metadata": {},
   "source": [
    "### Plot and inspect curves"
   ]
  },
  {
   "cell_type": "code",
   "execution_count": null,
   "metadata": {},
   "outputs": [],
   "source": []
  },
  {
   "cell_type": "markdown",
   "metadata": {},
   "source": [
    "### Calculate Vsh  --> check crain's\n",
    "\n",
    "Correct for borehole conditions. "
   ]
  },
  {
   "cell_type": "code",
   "execution_count": null,
   "metadata": {},
   "outputs": [],
   "source": []
  },
  {
   "cell_type": "markdown",
   "metadata": {},
   "source": [
    "### Calculate PHID density porosity --> check crain's\n",
    "\n",
    "Use limestone matrix. Large portion of WFMP mineral composition is carbonate. Sediment was sourced from exposed carbonate platforms along basin margins.\n",
    "\n",
    "Correct for shale density.\n",
    "\n",
    "Correct for gas density. The laterals and offset wells in this area predominantly gas producers."
   ]
  },
  {
   "cell_type": "code",
   "execution_count": null,
   "metadata": {},
   "outputs": [],
   "source": []
  },
  {
   "cell_type": "markdown",
   "metadata": {},
   "source": [
    "### Calculate Rw Water resistivity \n",
    "\n",
    "source: https://wiki.aapg.org/Water_resistivity_determination\n",
    "\n",
    "${RESD}_{brine}$ --> resistivity read from clean brine zone on log at XXXX'TVD \n",
    "\n",
    "#### $ R_w = {PHID}^2\\cdot {RESD}_{brine} $"
   ]
  },
  {
   "cell_type": "code",
   "execution_count": null,
   "metadata": {},
   "outputs": [],
   "source": []
  },
  {
   "cell_type": "markdown",
   "metadata": {},
   "source": [
    "### Calculate Sw with Archie's equation\n",
    "\n",
    "source: https://wiki.aapg.org/Archie_equation\n",
    "\n",
    "$n$ = 2.0 --> saturation exponent, 2.0 default, 1.8 for clay matrix\n",
    "\n",
    "$m$ = 2.0 --> cementation exponent, 2.0 default\n",
    "\n",
    "#### $ S_w = {((R_{w})/({PHID}^m\\cdot RESD))}^{1/n} $"
   ]
  },
  {
   "cell_type": "code",
   "execution_count": null,
   "metadata": {},
   "outputs": [],
   "source": []
  },
  {
   "cell_type": "markdown",
   "metadata": {},
   "source": [
    "### Plot and inspect curves"
   ]
  },
  {
   "cell_type": "code",
   "execution_count": null,
   "metadata": {},
   "outputs": [],
   "source": []
  },
  {
   "cell_type": "markdown",
   "metadata": {},
   "source": [
    "### Calculate OGIP --> check Crain's\n",
    "\n",
    "source: https://wiki.aapg.org/Predicting_hydrocarbon_recovery\n",
    "\n",
    "$43560$ = conversion factor from acre/ft to ft^3\n",
    "\n",
    "$A$ = area of reservoir --> resevoir extent not known, using lease area in this case\n",
    "\n",
    "$h$ = height of WFMP A formation --> read from formation tops\n",
    "\n",
    "$PHID_mean$ = mean porosity for WFMP A\n",
    "\n",
    "$1-Sw$ = hydrocarbon in place\n",
    "\n",
    "$depth\\cdot(0.43/15)$ = average formation volume factor of gas at initial conditions --> default value\n",
    " \n",
    "#### $ OGIP = 43560\\cdot A\\cdot h\\cdot {PHID}_{mean} \\cdot (1-S_{w})(depth\\cdot (0.43/15)) $"
   ]
  },
  {
   "cell_type": "code",
   "execution_count": null,
   "metadata": {},
   "outputs": [],
   "source": []
  },
  {
   "cell_type": "markdown",
   "metadata": {},
   "source": [
    "### Estimate implied recovery"
   ]
  },
  {
   "cell_type": "code",
   "execution_count": null,
   "metadata": {},
   "outputs": [],
   "source": []
  }
 ],
 "metadata": {
  "kernelspec": {
   "display_name": "Python 3",
   "language": "python",
   "name": "python3"
  },
  "language_info": {
   "codemirror_mode": {
    "name": "ipython",
    "version": 3
   },
   "file_extension": ".py",
   "mimetype": "text/x-python",
   "name": "python",
   "nbconvert_exporter": "python",
   "pygments_lexer": "ipython3",
   "version": "3.8.6"
  }
 },
 "nbformat": 4,
 "nbformat_minor": 4
}
